{
 "cells": [
  {
   "cell_type": "code",
   "execution_count": 1,
   "id": "98f71975",
   "metadata": {},
   "outputs": [],
   "source": [
    "import scanpy as sc\n",
    "import pandas as pd\n",
    "from sklearn import metrics\n",
    "import torch\n",
    "\n",
    "import matplotlib.pyplot as plt\n",
    "import seaborn as sns\n",
    "\n",
    "import os\n",
    "from pathlib import Path\n",
    "import warnings\n",
    "warnings.filterwarnings('ignore')\n",
    "\n",
    "import SEDR"
   ]
  },
  {
   "cell_type": "code",
   "execution_count": 2,
   "id": "30bd95b0",
   "metadata": {},
   "outputs": [],
   "source": [
    "random_seed = 2023\n",
    "SEDR.fix_seed(random_seed)\n",
    "\n",
    "# gpu\n",
    "device = 'cuda:0' if torch.cuda.is_available() else 'cpu'"
   ]
  },
  {
   "cell_type": "markdown",
   "id": "02b158ae",
   "metadata": {},
   "source": [
    "## Load datasets"
   ]
  },
  {
   "cell_type": "code",
   "execution_count": 3,
   "id": "49f78c55",
   "metadata": {},
   "outputs": [],
   "source": [
    "Xenium_count = pd.read_csv('../../data/reference_count.csv', index_col=0)\n",
    "Xenium_meta = pd.read_csv('../../data/reference_metadata.csv', index_col=0)"
   ]
  },
  {
   "cell_type": "code",
   "execution_count": 4,
   "id": "462bd249",
   "metadata": {},
   "outputs": [],
   "source": [
    "cell_count = Xenium_meta['Cluster'].value_counts()\n",
    "Xenium_meta['state_rank'] = 0\n",
    "for i, cell_type in enumerate(cell_count.index):\n",
    "    Xenium_meta.loc[Xenium_meta['Cluster'] == cell_type, 'state_rank'] = i + 1\n",
    "\n",
    "Xenium_meta['x_centroid'] = 100 * (Xenium_meta['x_centroid'] - Xenium_meta['x_centroid'].min()) / (Xenium_meta['x_centroid'].max() - Xenium_meta['x_centroid'].min())\n",
    "Xenium_meta['y_centroid'] = 100 * (Xenium_meta['y_centroid'] - Xenium_meta['y_centroid'].min()) / (Xenium_meta['y_centroid'].max() - Xenium_meta['y_centroid'].min())"
   ]
  },
  {
   "cell_type": "code",
   "execution_count": 5,
   "id": "17e55811",
   "metadata": {},
   "outputs": [],
   "source": [
    "simspace_count = pd.read_csv('../../fig_data/clustering/simspace_count.csv', index_col=0)\n",
    "simspace_meta = pd.read_csv('../../fig_data/clustering/simspace_metadata.csv', index_col=0)\n",
    "simspace_count = simspace_count.T"
   ]
  },
  {
   "cell_type": "code",
   "execution_count": 6,
   "id": "14708d03",
   "metadata": {},
   "outputs": [],
   "source": [
    "simspace_meta['row'] = 100 * (simspace_meta['row'] - simspace_meta['row'].min()) / (simspace_meta['row'].max() - simspace_meta['row'].min())\n",
    "simspace_meta['col'] = 100 * (simspace_meta['col'] - simspace_meta['col'].min()) / (simspace_meta['col'].max() - simspace_meta['col'].min())\n",
    "simspace_meta['row'] = simspace_meta['row'] + 200"
   ]
  },
  {
   "cell_type": "code",
   "execution_count": 7,
   "id": "7e235b3e",
   "metadata": {},
   "outputs": [],
   "source": [
    "sccube_count = pd.read_csv('../../fig_data/clustering/scCube_count.csv', index_col=0)\n",
    "sccube_meta = pd.read_csv('../../fig_data/clustering/scCube_metadata.csv', index_col=0)"
   ]
  },
  {
   "cell_type": "code",
   "execution_count": 8,
   "id": "a8779782",
   "metadata": {},
   "outputs": [],
   "source": [
    "sccube_meta['point_x'] = 100 * (sccube_meta['point_x'] - sccube_meta['point_x'].min()) / (sccube_meta['point_x'].max() - sccube_meta['point_x'].min())\n",
    "sccube_meta['point_y'] = 100 * (sccube_meta['point_y'] - sccube_meta['point_y'].min()) / (sccube_meta['point_y'].max() - sccube_meta['point_y'].min())\n",
    "sccube_meta['point_x'] = sccube_meta['point_x'] + 100"
   ]
  },
  {
   "cell_type": "code",
   "execution_count": 9,
   "id": "df56659f",
   "metadata": {},
   "outputs": [],
   "source": [
    "concat_count = pd.concat([Xenium_count, simspace_count, sccube_count], axis=1)\n",
    "Xenium_meta = Xenium_meta[['x_centroid', 'y_centroid', 'Cluster']]\n",
    "simspace_meta = simspace_meta[['row', 'col', 'fitted_celltype']]\n",
    "sccube_meta = sccube_meta[['point_x', 'point_y', 'Cell_type']]\n",
    "Xenium_meta.columns = ['x_centroid', 'y_centroid', 'Cluster']\n",
    "simspace_meta.columns = ['x_centroid', 'y_centroid', 'Cluster']\n",
    "sccube_meta.columns = ['x_centroid', 'y_centroid', 'Cluster']\n",
    "Xenium_meta['dataset'] = 'Xenium'\n",
    "simspace_meta['dataset'] = 'SimSpace'\n",
    "sccube_meta['dataset'] = 'scCube'\n",
    "concat_meta = pd.concat([Xenium_meta, simspace_meta, sccube_meta], axis=0)\n",
    "concat_meta.index = concat_count.columns"
   ]
  },
  {
   "cell_type": "code",
   "execution_count": 10,
   "id": "3072d1b9",
   "metadata": {},
   "outputs": [],
   "source": [
    "adata = sc.AnnData(X=concat_count.T, obs=concat_meta)"
   ]
  },
  {
   "cell_type": "markdown",
   "id": "23c65160",
   "metadata": {},
   "source": [
    "## SEDR"
   ]
  },
  {
   "cell_type": "code",
   "execution_count": 11,
   "id": "e5095b64",
   "metadata": {},
   "outputs": [],
   "source": [
    "adata.layers['count'] = adata.X.copy()"
   ]
  },
  {
   "cell_type": "code",
   "execution_count": 12,
   "id": "1ecb18e3",
   "metadata": {},
   "outputs": [],
   "source": [
    "sc.pp.normalize_total(adata, target_sum=1e6)\n",
    "sc.pp.scale(adata)"
   ]
  },
  {
   "cell_type": "code",
   "execution_count": 13,
   "id": "1510668f",
   "metadata": {},
   "outputs": [],
   "source": [
    "adata.obsm['spatial'] = adata.obs[['x_centroid', 'y_centroid']].values"
   ]
  },
  {
   "cell_type": "code",
   "execution_count": 14,
   "id": "d10892fa",
   "metadata": {},
   "outputs": [
    {
     "name": "stdout",
     "output_type": "stream",
     "text": [
      "{'adj_norm': tensor(indices=tensor([[   0,    0,    0,  ..., 6936, 6936, 6936],\n",
      "                       [   0,    1,    2,  ..., 6785, 6787, 6936]]),\n",
      "       values=tensor([0.0769, 0.0769, 0.0741,  ..., 0.0606, 0.0606, 0.0625]),\n",
      "       size=(6937, 6937), nnz=100659, layout=torch.sparse_coo), 'adj_label': tensor(indices=tensor([[   0,    0,    0,  ..., 6936, 6936, 6936],\n",
      "                       [   0,    1,    2,  ..., 6785, 6787, 6936]]),\n",
      "       values=tensor([1., 1., 1.,  ..., 1., 1., 1.]),\n",
      "       size=(6937, 6937), nnz=100659, dtype=torch.float64,\n",
      "       layout=torch.sparse_coo), 'norm_value': 0.5010480659523866}\n"
     ]
    }
   ],
   "source": [
    "graph_dict = SEDR.graph_construction(adata, 12)\n",
    "print(graph_dict)"
   ]
  },
  {
   "cell_type": "code",
   "execution_count": 15,
   "id": "fd948945",
   "metadata": {},
   "outputs": [],
   "source": [
    "from sklearn.decomposition import PCA  # sklearn PCA is used because PCA in scanpy is not stable.\n",
    "adata_X = PCA(n_components=200, random_state=42).fit_transform(adata.X)\n",
    "adata.obsm['X_pca'] = adata_X"
   ]
  },
  {
   "cell_type": "code",
   "execution_count": 16,
   "id": "4f0714da",
   "metadata": {},
   "outputs": [
    {
     "name": "stderr",
     "output_type": "stream",
     "text": [
      "100%|██████████| 200/200 [00:19<00:00, 10.39it/s]\n",
      "100%|██████████| 200/200 [00:16<00:00, 11.83it/s]\n"
     ]
    }
   ],
   "source": [
    "sedr_net = SEDR.Sedr(adata.obsm['X_pca'], graph_dict, mode='clustering', device=device)\n",
    "using_dec = True\n",
    "if using_dec:\n",
    "    sedr_net.train_with_dec(N=1)\n",
    "else:\n",
    "    sedr_net.train_without_dec(N=1)\n",
    "sedr_feat, _, _, _ = sedr_net.process()\n",
    "adata.obsm['SEDR'] = sedr_feat"
   ]
  },
  {
   "cell_type": "code",
   "execution_count": 17,
   "id": "95df7305",
   "metadata": {},
   "outputs": [
    {
     "name": "stderr",
     "output_type": "stream",
     "text": [
      "OMP: Info #276: omp_set_nested routine deprecated, please use omp_set_max_active_levels instead.\n"
     ]
    }
   ],
   "source": [
    "import umap\n",
    "\n",
    "reducer = umap.UMAP(random_state=random_seed)\n",
    "umap_embedding = reducer.fit_transform(adata.obsm['SEDR'])\n",
    "adata.obsm['SEDR_umap'] = umap_embedding"
   ]
  },
  {
   "cell_type": "code",
   "execution_count": null,
   "id": "f4a1b4b1",
   "metadata": {},
   "outputs": [],
   "source": [
    "# Save UMAP embedding to CSV\n",
    "umap_df = pd.DataFrame(umap_embedding, index=concat_meta.index, columns=['UMAP1', 'UMAP2'])\n",
    "umap_df['Dataset'] = concat_meta['dataset']\n",
    "umap_df['Cluster'] = concat_meta['Cluster']\n",
    "umap_df.to_csv('../../fig_data/clustering/SEDR_umap_embedding.csv')"
   ]
  }
 ],
 "metadata": {
  "kernelspec": {
   "display_name": "SEDR",
   "language": "python",
   "name": "python3"
  },
  "language_info": {
   "codemirror_mode": {
    "name": "ipython",
    "version": 3
   },
   "file_extension": ".py",
   "mimetype": "text/x-python",
   "name": "python",
   "nbconvert_exporter": "python",
   "pygments_lexer": "ipython3",
   "version": "3.13.3"
  }
 },
 "nbformat": 4,
 "nbformat_minor": 5
}
